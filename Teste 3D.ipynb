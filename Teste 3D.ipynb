{
 "cells": [
  {
   "cell_type": "code",
   "execution_count": 861,
   "metadata": {},
   "outputs": [
    {
     "name": "stdout",
     "output_type": "stream",
     "text": [
      "The autoreload extension is already loaded. To reload it, use:\n",
      "  %reload_ext autoreload\n"
     ]
    }
   ],
   "source": [
    "## Teste\n",
    "\n",
    "%load_ext autoreload\n",
    "%autoreload\n",
    "%reset -f\n",
    "\n",
    "from src import Node as nd\n",
    "from src import Bar as bar\n",
    "from src import Frame\n",
    "from src import Beam as vg\n",
    "from src import Analysis\n",
    "from src import Apoio as ap\n",
    "from src import CargaPontual as cp\n",
    "from src import CargaDistribuida as cd\n",
    "from src import Modelo as md\n",
    "\n",
    "import numpy as np"
   ]
  },
  {
   "cell_type": "code",
   "execution_count": 862,
   "metadata": {},
   "outputs": [],
   "source": [
    "## Propriedades do material\n",
    "\n",
    "mod_elast = 25e9\n",
    "mod_trans = 7e9\n",
    "\n",
    "## Propriedades da seção\n",
    "\n",
    "b = 0.2\n",
    "h = 0.4\n",
    "area = b * h\n",
    "Iy = b * h ** 3 / 12\n",
    "Iz = h * b ** 3 / 12\n",
    "Ix = Iy + Iz"
   ]
  },
  {
   "cell_type": "code",
   "execution_count": 863,
   "metadata": {},
   "outputs": [],
   "source": [
    "# nd.Node.clear_list_nodes()\n",
    "# bar.Barra.clear_list_bars()\n",
    "\n",
    "# node1 = nd.Node(0, 0, 0)\n",
    "# node2 = nd.Node(2.5, 0, 0)\n",
    "# node3 = nd.Node(5, 0, 0)\n",
    "# node4 = nd.Node(5, 2.5, 0)\n",
    "# node5 = nd.Node(5, 5, 0)\n",
    "# node6 = nd.Node(2.5, 5, 0)\n",
    "# node7 = nd.Node(0, 5, 0)\n",
    "# node8 = nd.Node(0, 2.55, 0)"
   ]
  },
  {
   "cell_type": "code",
   "execution_count": 864,
   "metadata": {},
   "outputs": [],
   "source": [
    "## Definindo os apoios:\n",
    "\n",
    "# apoio1 = ap.Apoio([[0, 1], [0, 1], [0, 1]], node = node1)\n",
    "# apoio2 = ap.Apoio([[0, 1], [0, 1], [0, 1]], node = node3)\n",
    "# apoio3 = ap.Apoio([[0, 1], [0, 1], [0, 1]], node = node5)\n",
    "# apoio4 = ap.Apoio([[0, 1], [0, 1], [0, 1]], node = node7)"
   ]
  },
  {
   "cell_type": "code",
   "execution_count": 865,
   "metadata": {},
   "outputs": [],
   "source": [
    "## Definindo as cargas:\n",
    "\n",
    "# carga1 = cp.CargaPontual(0, 0, -10e3, 0, 0, 0, node=node2)\n",
    "# carga2 = cp.CargaPontual(0, 0, -10e3, 0, 0, 0, node=node4)\n",
    "# carga3 = cp.CargaPontual(0, 0, -10e3, 0, 0, 0, node=node6)\n",
    "# carga4 = cp.CargaPontual(0, 0, -10e3, 0, 0, 0, node=node8)"
   ]
  },
  {
   "cell_type": "code",
   "execution_count": 866,
   "metadata": {},
   "outputs": [],
   "source": [
    "## Definindo as barras:\n",
    "\n",
    "# frame1 = Frame.Frame(area, Ix, Iy, Iz, mod_elast, mod_trans, node1, node2)\n",
    "# frame2 = Frame.Frame(area, Ix, Iy, Iz, mod_elast, mod_trans, node2, node3)\n",
    "# frame3 = Frame.Frame(area, Ix, Iy, Iz, mod_elast, mod_trans, node3, node4)\n",
    "# frame4 = Frame.Frame(area, Ix, Iy, Iz, mod_elast, mod_trans, node4, node5)\n",
    "# frame5 = Frame.Frame(area, Ix, Iy, Iz, mod_elast, mod_trans, node5, node6)\n",
    "# frame6 = Frame.Frame(area, Ix, Iy, Iz, mod_elast, mod_trans, node6, node7)\n",
    "# frame7 = Frame.Frame(area, Ix, Iy, Iz, mod_elast, mod_trans, node7, node8)\n",
    "# frame8 = Frame.Frame(area, Ix, Iy, Iz, mod_elast, mod_trans, node8, node1)"
   ]
  },
  {
   "cell_type": "code",
   "execution_count": 867,
   "metadata": {},
   "outputs": [],
   "source": [
    "# modelo = Analysis.Analysis(frame1, frame2, frame3, frame4, frame5, frame6, frame7, frame8)\n",
    "# modelo.solver()"
   ]
  },
  {
   "cell_type": "code",
   "execution_count": 868,
   "metadata": {},
   "outputs": [],
   "source": [
    "# print(frame1.vetor_esforcos)\n",
    "# print(frame2.vetor_esforcos)"
   ]
  },
  {
   "cell_type": "code",
   "execution_count": 869,
   "metadata": {},
   "outputs": [],
   "source": [
    "# print(frame3.vetor_esforcos)\n",
    "# print(frame4.vetor_esforcos)"
   ]
  },
  {
   "cell_type": "code",
   "execution_count": 870,
   "metadata": {},
   "outputs": [],
   "source": [
    "# teste_2d = ap.Apoio3([0, 0, 1])"
   ]
  },
  {
   "cell_type": "code",
   "execution_count": 871,
   "metadata": {},
   "outputs": [],
   "source": [
    "# print(frame5.vetor_esforcos)\n",
    "# print(frame6.vetor_esforcos)"
   ]
  },
  {
   "cell_type": "code",
   "execution_count": 872,
   "metadata": {},
   "outputs": [],
   "source": [
    "# print(frame7.vetor_esforcos)\n",
    "# print(frame8.vetor_esforcos)"
   ]
  },
  {
   "cell_type": "code",
   "execution_count": 873,
   "metadata": {},
   "outputs": [],
   "source": [
    "# print(frame1.vetor_deslocamentos)\n",
    "# print(frame2.vetor_deslocamentos)"
   ]
  },
  {
   "cell_type": "code",
   "execution_count": 874,
   "metadata": {},
   "outputs": [],
   "source": [
    "# print(frame3.vetor_deslocamentos)\n",
    "# print(frame4.vetor_deslocamentos)"
   ]
  },
  {
   "cell_type": "code",
   "execution_count": 875,
   "metadata": {},
   "outputs": [],
   "source": [
    "# print(frame5.vetor_deslocamentos)\n",
    "# print(frame6.vetor_deslocamentos)"
   ]
  },
  {
   "cell_type": "code",
   "execution_count": 876,
   "metadata": {},
   "outputs": [],
   "source": [
    "# print(frame7.vetor_deslocamentos)\n",
    "# print(frame8.vetor_deslocamentos)"
   ]
  },
  {
   "cell_type": "code",
   "execution_count": 877,
   "metadata": {},
   "outputs": [],
   "source": [
    "# frame3.vetor_esforcos"
   ]
  },
  {
   "cell_type": "code",
   "execution_count": 878,
   "metadata": {},
   "outputs": [],
   "source": [
    "# modelo.calcular_matriz_rigidez()\n",
    "# modelo.k_global"
   ]
  },
  {
   "cell_type": "code",
   "execution_count": 879,
   "metadata": {},
   "outputs": [],
   "source": [
    "# print(\"foo\")\n",
    "# modelo.calcular_vetor_deslocamentos()\n",
    "# modelo.vetor_deslocamentos"
   ]
  },
  {
   "cell_type": "code",
   "execution_count": 880,
   "metadata": {},
   "outputs": [],
   "source": [
    "# modelo.calcular_vetor_forcas()\n",
    "# modelo.vetor_forcas"
   ]
  },
  {
   "cell_type": "code",
   "execution_count": 881,
   "metadata": {},
   "outputs": [],
   "source": [
    "# modelo.calcular_solucao()\n",
    "# modelo.vetor_deslocamentos.shape"
   ]
  },
  {
   "cell_type": "code",
   "execution_count": 882,
   "metadata": {},
   "outputs": [],
   "source": [
    "nd.Node.clear_list_nodes()\n",
    "bar.Barra.clear_list_bars()\n",
    "\n",
    "node11 = nd.Node3(0, 0)\n",
    "node12 = nd.Node3(2.5, 0)\n",
    "node13 = nd.Node3(5, 0)"
   ]
  },
  {
   "cell_type": "code",
   "execution_count": 883,
   "metadata": {},
   "outputs": [],
   "source": [
    "apoio11 = ap.Apoio3([0, 0, 1], node = node11)\n",
    "apoio13 = ap.Apoio3([0, 0, 1], node = node13)\n"
   ]
  },
  {
   "cell_type": "code",
   "execution_count": 884,
   "metadata": {},
   "outputs": [],
   "source": [
    "carga11 = cp.CargaPontual3(0, -10e3, 0, node = node12)"
   ]
  },
  {
   "cell_type": "code",
   "execution_count": 885,
   "metadata": {},
   "outputs": [
    {
     "data": {
      "text/plain": [
       "{'indice': 1,\n",
       " 'lista_graus': [1, 2, 3, 4, 5, 6],\n",
       " 'x': 0,\n",
       " 'y': 0,\n",
       " 'z': 0,\n",
       " 'fx': 0,\n",
       " 'fy': 0,\n",
       " 'fz': 0,\n",
       " 'mx': 0,\n",
       " 'my': 0,\n",
       " 'mz': 0,\n",
       " 'forces_vector': array([0, 0, 0, 0, 0, 0]),\n",
       " 'ux': 0,\n",
       " 'uy': 0,\n",
       " 'uz': 0,\n",
       " 'rx': 0,\n",
       " 'ry': 0,\n",
       " 'rz': nan,\n",
       " 'displacement_vector': array([ 0.,  0.,  0.,  0.,  0., nan])}"
      ]
     },
     "execution_count": 885,
     "metadata": {},
     "output_type": "execute_result"
    }
   ],
   "source": [
    "vars(node11)"
   ]
  },
  {
   "cell_type": "code",
   "execution_count": 886,
   "metadata": {},
   "outputs": [],
   "source": [
    "bar11 = Frame.Frame2D(area, Iy, mod_elast, node11, node12)\n",
    "bar12 = Frame.Frame2D(area, Iy, mod_elast, node12, node13)"
   ]
  },
  {
   "cell_type": "code",
   "execution_count": 887,
   "metadata": {},
   "outputs": [
    {
     "data": {
      "text/plain": [
       "{'lista_cargas': [],\n",
       " 'list_nodes': [<src.Node.Node3 at 0x1bf22f14680>,\n",
       "  <src.Node.Node3 at 0x1bf25488920>],\n",
       " 'theta_x': 1.0,\n",
       " 'theta_y': 0.0,\n",
       " 'theta_z': 0.0,\n",
       " 'rotate': 0,\n",
       " 'ke_': Matrix([\n",
       " [ 800000000.0,          0,           0,                     0,                0,                    0, -800000000.0,          0,           0,                     0,                0,                    0],\n",
       " [           0,  2.048e+16,           0,                     0,                0,             2.56e+16,            0, -2.048e+16,           0,                     0,                0,             2.56e+16],\n",
       " [           0,          0,  20480000.0,                     0,      -25600000.0,                    0,            0,          0, -20480000.0,                     0,      -25600000.0,                    0],\n",
       " [           0,          0,           0,  1.06666666666667e+25,                0,                    0,            0,          0,           0, -1.06666666666667e+25,                0,                    0],\n",
       " [           0,          0, -25600000.0,                     0, 42666666.6666667,                    0,            0,          0,  25600000.0,                     0, 21333333.3333333,                    0],\n",
       " [           0,   2.56e+16,           0,                     0,                0, 4.26666666666667e+16,            0,  -2.56e+16,           0,                     0,                0, 2.13333333333333e+16],\n",
       " [-800000000.0,          0,           0,                     0,                0,                    0,  800000000.0,          0,           0,                     0,                0,                    0],\n",
       " [           0, -2.048e+16,           0,                     0,                0,            -2.56e+16,            0,  2.048e+16,           0,                     0,                0,            -2.56e+16],\n",
       " [           0,          0, -20480000.0,                     0,       25600000.0,                    0,            0,          0,  20480000.0,                     0,       25600000.0,                    0],\n",
       " [           0,          0,           0, -1.06666666666667e+25,                0,                    0,            0,          0,           0,  1.06666666666667e+25,                0,                    0],\n",
       " [           0,          0, -25600000.0,                     0, 21333333.3333333,                    0,            0,          0,  25600000.0,                     0, 42666666.6666667,                    0],\n",
       " [           0,   2.56e+16,           0,                     0,                0, 2.13333333333333e+16,            0,  -2.56e+16,           0,                     0,                0, 4.26666666666667e+16]]),\n",
       " 'T': Matrix([\n",
       " [1.0,   0,   0,   0,   0,   0,   0,   0,   0,   0,   0,   0],\n",
       " [  0, 1.0,   0,   0,   0,   0,   0,   0,   0,   0,   0,   0],\n",
       " [  0,   0, 1.0,   0,   0,   0,   0,   0,   0,   0,   0,   0],\n",
       " [  0,   0,   0, 1.0,   0,   0,   0,   0,   0,   0,   0,   0],\n",
       " [  0,   0,   0,   0, 1.0,   0,   0,   0,   0,   0,   0,   0],\n",
       " [  0,   0,   0,   0,   0, 1.0,   0,   0,   0,   0,   0,   0],\n",
       " [  0,   0,   0,   0,   0,   0, 1.0,   0,   0,   0,   0,   0],\n",
       " [  0,   0,   0,   0,   0,   0,   0, 1.0,   0,   0,   0,   0],\n",
       " [  0,   0,   0,   0,   0,   0,   0,   0, 1.0,   0,   0,   0],\n",
       " [  0,   0,   0,   0,   0,   0,   0,   0,   0, 1.0,   0,   0],\n",
       " [  0,   0,   0,   0,   0,   0,   0,   0,   0,   0, 1.0,   0],\n",
       " [  0,   0,   0,   0,   0,   0,   0,   0,   0,   0,   0, 1.0]]),\n",
       " 'A': 0.08000000000000002,\n",
       " 'E': 25000000000.0,\n",
       " 'L': 2.5,\n",
       " 'Iz': 1066666.666666667,\n",
       " 'ke': Matrix([\n",
       " [ 0,            1,          2,           3,                     4,                5,                    6,            7,          8,           9,                    10,               11,                   12],\n",
       " [ 1,  800000000.0,          0,           0,                     0,                0,                    0, -800000000.0,          0,           0,                     0,                0,                    0],\n",
       " [ 2,            0,  2.048e+16,           0,                     0,                0,             2.56e+16,            0, -2.048e+16,           0,                     0,                0,             2.56e+16],\n",
       " [ 3,            0,          0,  20480000.0,                     0,      -25600000.0,                    0,            0,          0, -20480000.0,                     0,      -25600000.0,                    0],\n",
       " [ 4,            0,          0,           0,  1.06666666666667e+25,                0,                    0,            0,          0,           0, -1.06666666666667e+25,                0,                    0],\n",
       " [ 5,            0,          0, -25600000.0,                     0, 42666666.6666667,                    0,            0,          0,  25600000.0,                     0, 21333333.3333333,                    0],\n",
       " [ 6,            0,   2.56e+16,           0,                     0,                0, 4.26666666666667e+16,            0,  -2.56e+16,           0,                     0,                0, 2.13333333333333e+16],\n",
       " [ 7, -800000000.0,          0,           0,                     0,                0,                    0,  800000000.0,          0,           0,                     0,                0,                    0],\n",
       " [ 8,            0, -2.048e+16,           0,                     0,                0,            -2.56e+16,            0,  2.048e+16,           0,                     0,                0,            -2.56e+16],\n",
       " [ 9,            0,          0, -20480000.0,                     0,       25600000.0,                    0,            0,          0,  20480000.0,                     0,       25600000.0,                    0],\n",
       " [10,            0,          0,           0, -1.06666666666667e+25,                0,                    0,            0,          0,           0,  1.06666666666667e+25,                0,                    0],\n",
       " [11,            0,          0, -25600000.0,                     0, 21333333.3333333,                    0,            0,          0,  25600000.0,                     0, 42666666.6666667,                    0],\n",
       " [12,            0,   2.56e+16,           0,                     0,                0, 2.13333333333333e+16,            0,  -2.56e+16,           0,                     0,                0, 4.26666666666667e+16]]),\n",
       " 'f': array([     0.,      0.,      0.,      0., -10000.,      0.]),\n",
       " 'lista_graus': [1, 2, 3, 4, 5, 6, 7, 8, 9, 10, 11, 12]}"
      ]
     },
     "execution_count": 887,
     "metadata": {},
     "output_type": "execute_result"
    }
   ],
   "source": [
    "vars(bar11)"
   ]
  },
  {
   "cell_type": "code",
   "execution_count": 888,
   "metadata": {},
   "outputs": [],
   "source": [
    "viga2 = Analysis.Analysis(bar11, bar12)\n",
    "viga2.solver()"
   ]
  },
  {
   "cell_type": "code",
   "execution_count": 889,
   "metadata": {},
   "outputs": [
    {
     "data": {
      "text/latex": [
       "$\\displaystyle \\left[\\begin{array}{cccccccccccccccccc}800000000.0 & 0 & 0 & 0 & 0 & 0 & -800000000.0 & 0 & 0 & 0 & 0 & 0 & 0 & 0 & 0 & 0 & 0 & 0\\\\0 & 2.048 \\cdot 10^{16} & 0 & 0 & 0 & 2.56 \\cdot 10^{16} & 0 & -2.048 \\cdot 10^{16} & 0 & 0 & 0 & 2.56 \\cdot 10^{16} & 0 & 0 & 0 & 0 & 0 & 0\\\\0 & 0 & 20480000.0 & 0 & -25600000.0 & 0 & 0 & 0 & -20480000.0 & 0 & -25600000.0 & 0 & 0 & 0 & 0 & 0 & 0 & 0\\\\0 & 0 & 0 & 1.06666666666667 \\cdot 10^{25} & 0 & 0 & 0 & 0 & 0 & -1.06666666666667 \\cdot 10^{25} & 0 & 0 & 0 & 0 & 0 & 0 & 0 & 0\\\\0 & 0 & -25600000.0 & 0 & 42666666.6666667 & 0 & 0 & 0 & 25600000.0 & 0 & 21333333.3333333 & 0 & 0 & 0 & 0 & 0 & 0 & 0\\\\0 & 2.56 \\cdot 10^{16} & 0 & 0 & 0 & 4.26666666666667 \\cdot 10^{16} & 0 & -2.56 \\cdot 10^{16} & 0 & 0 & 0 & 2.13333333333333 \\cdot 10^{16} & 0 & 0 & 0 & 0 & 0 & 0\\\\-800000000.0 & 0 & 0 & 0 & 0 & 0 & 1600000000.0 & 0 & 0 & 0 & 0 & 0 & -800000000.0 & 0 & 0 & 0 & 0 & 0\\\\0 & -2.048 \\cdot 10^{16} & 0 & 0 & 0 & -2.56 \\cdot 10^{16} & 0 & 4.096 \\cdot 10^{16} & 0 & 0 & 0 & 0 & 0 & -2.048 \\cdot 10^{16} & 0 & 0 & 0 & 2.56 \\cdot 10^{16}\\\\0 & 0 & -20480000.0 & 0 & 25600000.0 & 0 & 0 & 0 & 40960000.0 & 0 & 0 & 0 & 0 & 0 & -20480000.0 & 0 & -25600000.0 & 0\\\\0 & 0 & 0 & -1.06666666666667 \\cdot 10^{25} & 0 & 0 & 0 & 0 & 0 & 2.13333333333333 \\cdot 10^{25} & 0 & 0 & 0 & 0 & 0 & -1.06666666666667 \\cdot 10^{25} & 0 & 0\\\\0 & 0 & -25600000.0 & 0 & 21333333.3333333 & 0 & 0 & 0 & 0 & 0 & 85333333.3333334 & 0 & 0 & 0 & 25600000.0 & 0 & 21333333.3333333 & 0\\\\0 & 2.56 \\cdot 10^{16} & 0 & 0 & 0 & 2.13333333333333 \\cdot 10^{16} & 0 & 0 & 0 & 0 & 0 & 8.53333333333334 \\cdot 10^{16} & 0 & -2.56 \\cdot 10^{16} & 0 & 0 & 0 & 2.13333333333333 \\cdot 10^{16}\\\\0 & 0 & 0 & 0 & 0 & 0 & -800000000.0 & 0 & 0 & 0 & 0 & 0 & 800000000.0 & 0 & 0 & 0 & 0 & 0\\\\0 & 0 & 0 & 0 & 0 & 0 & 0 & -2.048 \\cdot 10^{16} & 0 & 0 & 0 & -2.56 \\cdot 10^{16} & 0 & 2.048 \\cdot 10^{16} & 0 & 0 & 0 & -2.56 \\cdot 10^{16}\\\\0 & 0 & 0 & 0 & 0 & 0 & 0 & 0 & -20480000.0 & 0 & 25600000.0 & 0 & 0 & 0 & 20480000.0 & 0 & 25600000.0 & 0\\\\0 & 0 & 0 & 0 & 0 & 0 & 0 & 0 & 0 & -1.06666666666667 \\cdot 10^{25} & 0 & 0 & 0 & 0 & 0 & 1.06666666666667 \\cdot 10^{25} & 0 & 0\\\\0 & 0 & 0 & 0 & 0 & 0 & 0 & 0 & -25600000.0 & 0 & 21333333.3333333 & 0 & 0 & 0 & 25600000.0 & 0 & 42666666.6666667 & 0\\\\0 & 0 & 0 & 0 & 0 & 0 & 0 & 2.56 \\cdot 10^{16} & 0 & 0 & 0 & 2.13333333333333 \\cdot 10^{16} & 0 & -2.56 \\cdot 10^{16} & 0 & 0 & 0 & 4.26666666666667 \\cdot 10^{16}\\end{array}\\right]$"
      ],
      "text/plain": [
       "Matrix([\n",
       "[ 800000000.0,          0,           0,                     0,                0,                    0, -800000000.0,          0,           0,                     0,                0,                    0,            0,          0,           0,                     0,                0,                    0],\n",
       "[           0,  2.048e+16,           0,                     0,                0,             2.56e+16,            0, -2.048e+16,           0,                     0,                0,             2.56e+16,            0,          0,           0,                     0,                0,                    0],\n",
       "[           0,          0,  20480000.0,                     0,      -25600000.0,                    0,            0,          0, -20480000.0,                     0,      -25600000.0,                    0,            0,          0,           0,                     0,                0,                    0],\n",
       "[           0,          0,           0,  1.06666666666667e+25,                0,                    0,            0,          0,           0, -1.06666666666667e+25,                0,                    0,            0,          0,           0,                     0,                0,                    0],\n",
       "[           0,          0, -25600000.0,                     0, 42666666.6666667,                    0,            0,          0,  25600000.0,                     0, 21333333.3333333,                    0,            0,          0,           0,                     0,                0,                    0],\n",
       "[           0,   2.56e+16,           0,                     0,                0, 4.26666666666667e+16,            0,  -2.56e+16,           0,                     0,                0, 2.13333333333333e+16,            0,          0,           0,                     0,                0,                    0],\n",
       "[-800000000.0,          0,           0,                     0,                0,                    0, 1600000000.0,          0,           0,                     0,                0,                    0, -800000000.0,          0,           0,                     0,                0,                    0],\n",
       "[           0, -2.048e+16,           0,                     0,                0,            -2.56e+16,            0,  4.096e+16,           0,                     0,                0,                    0,            0, -2.048e+16,           0,                     0,                0,             2.56e+16],\n",
       "[           0,          0, -20480000.0,                     0,       25600000.0,                    0,            0,          0,  40960000.0,                     0,                0,                    0,            0,          0, -20480000.0,                     0,      -25600000.0,                    0],\n",
       "[           0,          0,           0, -1.06666666666667e+25,                0,                    0,            0,          0,           0,  2.13333333333333e+25,                0,                    0,            0,          0,           0, -1.06666666666667e+25,                0,                    0],\n",
       "[           0,          0, -25600000.0,                     0, 21333333.3333333,                    0,            0,          0,           0,                     0, 85333333.3333334,                    0,            0,          0,  25600000.0,                     0, 21333333.3333333,                    0],\n",
       "[           0,   2.56e+16,           0,                     0,                0, 2.13333333333333e+16,            0,          0,           0,                     0,                0, 8.53333333333334e+16,            0,  -2.56e+16,           0,                     0,                0, 2.13333333333333e+16],\n",
       "[           0,          0,           0,                     0,                0,                    0, -800000000.0,          0,           0,                     0,                0,                    0,  800000000.0,          0,           0,                     0,                0,                    0],\n",
       "[           0,          0,           0,                     0,                0,                    0,            0, -2.048e+16,           0,                     0,                0,            -2.56e+16,            0,  2.048e+16,           0,                     0,                0,            -2.56e+16],\n",
       "[           0,          0,           0,                     0,                0,                    0,            0,          0, -20480000.0,                     0,       25600000.0,                    0,            0,          0,  20480000.0,                     0,       25600000.0,                    0],\n",
       "[           0,          0,           0,                     0,                0,                    0,            0,          0,           0, -1.06666666666667e+25,                0,                    0,            0,          0,           0,  1.06666666666667e+25,                0,                    0],\n",
       "[           0,          0,           0,                     0,                0,                    0,            0,          0, -25600000.0,                     0, 21333333.3333333,                    0,            0,          0,  25600000.0,                     0, 42666666.6666667,                    0],\n",
       "[           0,          0,           0,                     0,                0,                    0,            0,   2.56e+16,           0,                     0,                0, 2.13333333333333e+16,            0,  -2.56e+16,           0,                     0,                0, 4.26666666666667e+16]])"
      ]
     },
     "execution_count": 889,
     "metadata": {},
     "output_type": "execute_result"
    }
   ],
   "source": [
    "viga2.k_global"
   ]
  },
  {
   "cell_type": "code",
   "execution_count": 890,
   "metadata": {},
   "outputs": [
    {
     "data": {
      "text/latex": [
       "$\\displaystyle 42666666.6666667$"
      ],
      "text/plain": [
       "42666666.6666667"
      ]
     },
     "execution_count": 890,
     "metadata": {},
     "output_type": "execute_result"
    }
   ],
   "source": [
    "viga2.k_global[4, 4]"
   ]
  },
  {
   "cell_type": "code",
   "execution_count": 891,
   "metadata": {},
   "outputs": [
    {
     "data": {
      "text/plain": [
       "array([     0.,      0.,      0.,      0.,      0.,      0.,      0.,\n",
       "       -10000.,      0.,      0.,      0.,      0.,      0.,      0.,\n",
       "            0.,      0.,      0.,      0.])"
      ]
     },
     "execution_count": 891,
     "metadata": {},
     "output_type": "execute_result"
    }
   ],
   "source": [
    "viga2.vetor_forcas"
   ]
  },
  {
   "cell_type": "code",
   "execution_count": 892,
   "metadata": {},
   "outputs": [
    {
     "data": {
      "text/plain": [
       "array([ 0.000000e+00,  0.000000e+00,  0.000000e+00,  0.000000e+00,\n",
       "        0.000000e+00, -5.859375e-13,  0.000000e+00, -9.765625e-13,\n",
       "        0.000000e+00,  0.000000e+00,  0.000000e+00,  0.000000e+00,\n",
       "        0.000000e+00,  0.000000e+00,  0.000000e+00,  0.000000e+00,\n",
       "        0.000000e+00,  5.859375e-13])"
      ]
     },
     "execution_count": 892,
     "metadata": {},
     "output_type": "execute_result"
    }
   ],
   "source": [
    "viga2.vetor_deslocamentos"
   ]
  },
  {
   "cell_type": "code",
   "execution_count": 893,
   "metadata": {},
   "outputs": [
    {
     "data": {
      "text/plain": [
       "(8, 8)"
      ]
     },
     "execution_count": 893,
     "metadata": {},
     "output_type": "execute_result"
    }
   ],
   "source": [
    "viga2.k_shorted.shape"
   ]
  },
  {
   "cell_type": "code",
   "execution_count": 894,
   "metadata": {},
   "outputs": [
    {
     "data": {
      "text/plain": [
       "[0.0, 0.0, -10000.0, 0.0, 0.0, 0.0, 0.0, 0.0]"
      ]
     },
     "execution_count": 894,
     "metadata": {},
     "output_type": "execute_result"
    }
   ],
   "source": [
    "viga2.f_shorted"
   ]
  },
  {
   "cell_type": "code",
   "execution_count": 895,
   "metadata": {},
   "outputs": [
    {
     "data": {
      "text/latex": [
       "$\\displaystyle \\left[\\begin{matrix}4.26666666666667 \\cdot 10^{16} & 0 & -2.56 \\cdot 10^{16} & 0 & 0 & 0 & 2.13333333333333 \\cdot 10^{16} & 0\\\\0 & 1600000000.0 & 0 & 0 & 0 & 0 & 0 & 0\\\\-2.56 \\cdot 10^{16} & 0 & 4.096 \\cdot 10^{16} & 0 & 0 & 0 & 0 & 2.56 \\cdot 10^{16}\\\\0 & 0 & 0 & 40960000.0 & 0 & 0 & 0 & 0\\\\0 & 0 & 0 & 0 & 2.13333333333333 \\cdot 10^{25} & 0 & 0 & 0\\\\0 & 0 & 0 & 0 & 0 & 85333333.3333334 & 0 & 0\\\\2.13333333333333 \\cdot 10^{16} & 0 & 0 & 0 & 0 & 0 & 8.53333333333334 \\cdot 10^{16} & 2.13333333333333 \\cdot 10^{16}\\\\0 & 0 & 2.56 \\cdot 10^{16} & 0 & 0 & 0 & 2.13333333333333 \\cdot 10^{16} & 4.26666666666667 \\cdot 10^{16}\\end{matrix}\\right]$"
      ],
      "text/plain": [
       "Matrix([\n",
       "[4.26666666666667e+16,            0, -2.56e+16,          0,                    0,                0, 2.13333333333333e+16,                    0],\n",
       "[                   0, 1600000000.0,         0,          0,                    0,                0,                    0,                    0],\n",
       "[           -2.56e+16,            0, 4.096e+16,          0,                    0,                0,                    0,             2.56e+16],\n",
       "[                   0,            0,         0, 40960000.0,                    0,                0,                    0,                    0],\n",
       "[                   0,            0,         0,          0, 2.13333333333333e+25,                0,                    0,                    0],\n",
       "[                   0,            0,         0,          0,                    0, 85333333.3333334,                    0,                    0],\n",
       "[2.13333333333333e+16,            0,         0,          0,                    0,                0, 8.53333333333334e+16, 2.13333333333333e+16],\n",
       "[                   0,            0,  2.56e+16,          0,                    0,                0, 2.13333333333333e+16, 4.26666666666667e+16]])"
      ]
     },
     "execution_count": 895,
     "metadata": {},
     "output_type": "execute_result"
    }
   ],
   "source": [
    "import sympy\n",
    "\n",
    "sympy.Matrix(viga2.k_shorted)"
   ]
  },
  {
   "cell_type": "code",
   "execution_count": 896,
   "metadata": {},
   "outputs": [
    {
     "data": {
      "text/plain": [
       "array([0, 5000.00000000000, 0, 0, 0, 0, 0, -5000.00000000000, 0, 0, 0,\n",
       "       12500.0000000000], dtype=object)"
      ]
     },
     "execution_count": 896,
     "metadata": {},
     "output_type": "execute_result"
    }
   ],
   "source": [
    "bar11.vetor_esforcos"
   ]
  },
  {
   "cell_type": "code",
   "execution_count": 897,
   "metadata": {},
   "outputs": [
    {
     "data": {
      "text/plain": [
       "array([0, -5000.00000000000, 0, 0, 0, -12500.0000000000, 0,\n",
       "       5000.00000000000, 0, 0, 0, 0], dtype=object)"
      ]
     },
     "execution_count": 897,
     "metadata": {},
     "output_type": "execute_result"
    }
   ],
   "source": [
    "bar12.vetor_esforcos"
   ]
  }
 ],
 "metadata": {
  "kernelspec": {
   "display_name": "Python 3",
   "language": "python",
   "name": "python3"
  },
  "language_info": {
   "codemirror_mode": {
    "name": "ipython",
    "version": 3
   },
   "file_extension": ".py",
   "mimetype": "text/x-python",
   "name": "python",
   "nbconvert_exporter": "python",
   "pygments_lexer": "ipython3",
   "version": "3.12.1"
  }
 },
 "nbformat": 4,
 "nbformat_minor": 2
}
