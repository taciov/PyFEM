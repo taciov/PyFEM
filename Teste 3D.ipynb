{
 "cells": [
  {
   "cell_type": "code",
   "execution_count": 906,
   "metadata": {},
   "outputs": [
    {
     "name": "stdout",
     "output_type": "stream",
     "text": [
      "The autoreload extension is already loaded. To reload it, use:\n",
      "  %reload_ext autoreload\n"
     ]
    }
   ],
   "source": [
    "## Teste\n",
    "\n",
    "%load_ext autoreload\n",
    "%autoreload\n",
    "%reset -f\n",
    "\n",
    "from src import Node as nd\n",
    "from src import Bar as bar\n",
    "from src import Frame\n",
    "from src import Beam as vg\n",
    "from src import Analysis\n",
    "from src import Apoio as ap\n",
    "from src import CargaPontual as cp\n",
    "from src import CargaDistribuida as cd\n",
    "from src import Modelo as md\n",
    "\n",
    "import numpy as np"
   ]
  },
  {
   "cell_type": "code",
   "execution_count": 907,
   "metadata": {},
   "outputs": [],
   "source": [
    "## Propriedades do material\n",
    "\n",
    "mod_elast = 25e9\n",
    "mod_trans = 7e9\n",
    "\n",
    "## Propriedades da seção\n",
    "\n",
    "b = 0.2\n",
    "h = 0.4\n",
    "area = b * h\n",
    "Iy = b * h ** 3 / 12\n",
    "Iz = h * b ** 3 / 12\n",
    "Ix = Iy + Iz"
   ]
  },
  {
   "cell_type": "code",
   "execution_count": 908,
   "metadata": {},
   "outputs": [],
   "source": [
    "nd.NodeGeneral.clear_list_nodes()\n",
    "bar.Barra.clear_list_bars()\n",
    "\n",
    "node1 = nd.NodeGeneral(0, 0, 0)\n",
    "node2 = nd.NodeGeneral(2.5, 0, 0)\n",
    "node3 = nd.NodeGeneral(5, 0, 0)\n",
    "node4 = nd.NodeGeneral(5, 2.5, 0)\n",
    "node5 = nd.NodeGeneral(5, 5, 0)\n",
    "node6 = nd.NodeGeneral(2.5, 5, 0)\n",
    "node7 = nd.NodeGeneral(0, 5, 0)\n",
    "node8 = nd.NodeGeneral(0, 2.55, 0)"
   ]
  },
  {
   "cell_type": "code",
   "execution_count": 909,
   "metadata": {},
   "outputs": [],
   "source": [
    "## Definindo os apoios:\n",
    "\n",
    "apoio1 = ap.Apoio([[0, 1], [0, 1], [0, 1]], node = node1)\n",
    "apoio2 = ap.Apoio([[0, 1], [0, 1], [0, 1]], node = node3)\n",
    "apoio3 = ap.Apoio([[0, 1], [0, 1], [0, 1]], node = node5)\n",
    "apoio4 = ap.Apoio([[0, 1], [0, 1], [0, 1]], node = node7)"
   ]
  },
  {
   "cell_type": "code",
   "execution_count": 910,
   "metadata": {},
   "outputs": [],
   "source": [
    "## Definindo as cargas:\n",
    "\n",
    "carga1 = cp.CargaPontual(0, 0, -10e3, 0, 0, 0, node=node2)\n",
    "carga2 = cp.CargaPontual(0, 0, -10e3, 0, 0, 0, node=node4)\n",
    "carga3 = cp.CargaPontual(0, 0, -10e3, 0, 0, 0, node=node6)\n",
    "carga4 = cp.CargaPontual(0, 0, -10e3, 0, 0, 0, node=node8)"
   ]
  },
  {
   "cell_type": "code",
   "execution_count": 911,
   "metadata": {},
   "outputs": [],
   "source": [
    "## Definindo as barras:\n",
    "\n",
    "frame1 = Frame.Frame(area, Ix, Iy, Iz, mod_elast, mod_trans, node1, node2)\n",
    "frame2 = Frame.Frame(area, Ix, Iy, Iz, mod_elast, mod_trans, node2, node3)\n",
    "frame3 = Frame.Frame(area, Ix, Iy, Iz, mod_elast, mod_trans, node3, node4)\n",
    "frame4 = Frame.Frame(area, Ix, Iy, Iz, mod_elast, mod_trans, node4, node5)\n",
    "frame5 = Frame.Frame(area, Ix, Iy, Iz, mod_elast, mod_trans, node5, node6)\n",
    "frame6 = Frame.Frame(area, Ix, Iy, Iz, mod_elast, mod_trans, node6, node7)\n",
    "frame7 = Frame.Frame(area, Ix, Iy, Iz, mod_elast, mod_trans, node7, node8)\n",
    "frame8 = Frame.Frame(area, Ix, Iy, Iz, mod_elast, mod_trans, node8, node1)"
   ]
  },
  {
   "cell_type": "code",
   "execution_count": 912,
   "metadata": {},
   "outputs": [],
   "source": [
    "modelo = Analysis.Analysis(frame1, frame2, frame3, frame4, frame5, frame6, frame7, frame8)\n",
    "modelo.solver()"
   ]
  },
  {
   "cell_type": "code",
   "execution_count": 913,
   "metadata": {},
   "outputs": [
    {
     "name": "stdout",
     "output_type": "stream",
     "text": [
      "[0 1.94575972496480e-13 5000.00000000000 20.6075757575745\n",
      " 3.80518957605892e-12 9.43203973502227e-13 0 -1.94575972496480e-13\n",
      " -5000.00000000000 -20.6075757575745 -12500.0000000000\n",
      " -4.56764042261029e-13]\n",
      "[0 1.94575972496480e-13 -5000.00000000000 20.6075757575782\n",
      " 12500.0000000000 4.56764042261029e-13 0 -1.94575972496480e-13\n",
      " 5000.00000000000 -20.6075757575782 -3.63797880709171e-12\n",
      " 2.96758889801708e-14]\n"
     ]
    }
   ],
   "source": [
    "print(frame1.vetor_esforcos)\n",
    "print(frame2.vetor_esforcos)"
   ]
  },
  {
   "cell_type": "code",
   "execution_count": 914,
   "metadata": {},
   "outputs": [
    {
     "name": "stdout",
     "output_type": "stream",
     "text": [
      "[0 5007.95136363636 3.05425493514972e-13 0 -3.09377390646565e-14\n",
      " 20.6075757575714 0 -5007.95136363636 -3.05425493514972e-13 0\n",
      " -7.32625994722773e-13 12499.2708333333]\n",
      "[0 -4992.04863636364 -3.06897906058702e-13 0 7.32625994722773e-13\n",
      " -12499.2708333333 0 4992.04863636364 3.06897906058702e-13 0\n",
      " 3.46187704239829e-14 19.1492424242424]\n"
     ]
    }
   ],
   "source": [
    "print(frame3.vetor_esforcos)\n",
    "print(frame4.vetor_esforcos)"
   ]
  },
  {
   "cell_type": "code",
   "execution_count": 915,
   "metadata": {},
   "outputs": [
    {
     "name": "stdout",
     "output_type": "stream",
     "text": [
      "[0 1.98916165285269e-13 -5000.00000000000 19.1492424242406\n",
      " -3.37667923642321e-12 3.57913233460316e-14 0 -1.98916165285269e-13\n",
      " 5000.00000000000 -19.1492424242406 12500.0000000000 4.61499089867141e-13]\n",
      "[0 1.98916165285269e-13 5000.00000000000 19.1492424242406\n",
      " -12500.0000000000 -4.61499089867141e-13 0 -1.98916165285269e-13\n",
      " -5000.00000000000 -19.1492424242406 3.63797880709171e-12\n",
      " 9.58789503080312e-13]\n"
     ]
    }
   ],
   "source": [
    "print(frame5.vetor_esforcos)\n",
    "print(frame6.vetor_esforcos)"
   ]
  },
  {
   "cell_type": "code",
   "execution_count": 916,
   "metadata": {},
   "outputs": [
    {
     "name": "stdout",
     "output_type": "stream",
     "text": [
      "[0 -5107.95136363637 -9.35198337236030e-13 -9.09494701772928e-13\n",
      " -9.55271844314176e-13 -19.1492424242395 0 5107.95136363637\n",
      " 9.35198337236030e-13 9.09494701772928e-13 3.24650777054245e-12\n",
      " -12495.3315984849]\n",
      "[0 4892.04863636363 9.01771861485003e-13 9.09494701772928e-13\n",
      " -3.24650777054245e-12 12495.3315984849 0 -4892.04863636363\n",
      " -9.01771861485003e-13 -9.09494701772928e-13 9.46989523755687e-13\n",
      " -20.6075757575782]\n"
     ]
    }
   ],
   "source": [
    "print(frame7.vetor_esforcos)\n",
    "print(frame8.vetor_esforcos)"
   ]
  },
  {
   "cell_type": "code",
   "execution_count": 917,
   "metadata": {},
   "outputs": [
    {
     "name": "stdout",
     "output_type": "stream",
     "text": [
      "[0 0 0 -0.00232995198863636 0.000585937500000000 2.32091507253035e-19 0\n",
      " 2.14108144809857e-19 -0.000976562500000000 -0.00233547187500000\n",
      " 7.83800479533791e-21 -3.04024957025749e-20]\n",
      "[0 2.14108144809857e-19 -0.000976562500000000 -0.00233547187500000\n",
      " 7.83800479533791e-21 -3.04024957025749e-20 0 0 0 -0.00234099176136364\n",
      " -0.000585937500000000 -1.10481524442736e-19]\n"
     ]
    }
   ],
   "source": [
    "print(frame1.vetor_deslocamentos)\n",
    "print(frame2.vetor_deslocamentos)"
   ]
  },
  {
   "cell_type": "code",
   "execution_count": 918,
   "metadata": {},
   "outputs": [
    {
     "name": "stdout",
     "output_type": "stream",
     "text": [
      "[0 0 0 -0.000585937500000000 3.28628789264795e-20 -0.00234099176136364 0\n",
      " -0.00390590820312500 -5.59560052617666e-20 -0.000585937500000000\n",
      " -2.87580574947428e-23 -1.24240056818180e-6]\n",
      "[0 -0.00390590820312500 -5.59560052617666e-20 -0.000585937500000000\n",
      " -2.87580574947428e-23 -1.24240056818180e-6 0 0 0 -0.000585937500000000\n",
      " -3.27478466965005e-20 0.00234596136363636]\n"
     ]
    }
   ],
   "source": [
    "print(frame3.vetor_deslocamentos)\n",
    "print(frame4.vetor_deslocamentos)"
   ]
  },
  {
   "cell_type": "code",
   "execution_count": 919,
   "metadata": {},
   "outputs": [
    {
     "name": "stdout",
     "output_type": "stream",
     "text": [
      "[0 0 0 -0.00234596136363636 -0.000585937500000000 -1.10900857048531e-19 0\n",
      " -2.16327698375222e-19 0.000976562500000000 -0.00235109062500000\n",
      " 1.22484173750859e-20 -3.10806508258232e-20]\n",
      "[0 -2.16327698375222e-19 0.000976562500000000 -0.00235109062500000\n",
      " 1.22484173750859e-20 -3.10806508258232e-20 0 0 0 -0.00235621988636364\n",
      " 0.000585937500000000 2.35223460351824e-19]\n"
     ]
    }
   ],
   "source": [
    "print(frame5.vetor_deslocamentos)\n",
    "print(frame6.vetor_deslocamentos)"
   ]
  },
  {
   "cell_type": "code",
   "execution_count": 920,
   "metadata": {},
   "outputs": [
    {
     "name": "stdout",
     "output_type": "stream",
     "text": [
      "[0 0 0 -0.000585937500000000 -1.97607110936561e-19 0.00235621988636364 0\n",
      " 0.00390340518997585 2.90667413146620e-19 -0.000585937500000000\n",
      " -4.58785987908498e-21 6.37213784374997e-5]\n",
      "[0 0.00390340518997585 2.90667413146620e-19 -0.000585937500000000\n",
      " -4.58785987908498e-21 6.37213784374997e-5 0 0 0 -0.000585937500000000\n",
      " 1.95913729504545e-19 -0.00232995198863636]\n"
     ]
    }
   ],
   "source": [
    "print(frame7.vetor_deslocamentos)\n",
    "print(frame8.vetor_deslocamentos)"
   ]
  },
  {
   "cell_type": "code",
   "execution_count": 921,
   "metadata": {},
   "outputs": [
    {
     "data": {
      "text/plain": [
       "array([0, 5007.95136363636, 3.05425493514972e-13, 0,\n",
       "       -3.09377390646565e-14, 20.6075757575714, 0, -5007.95136363636,\n",
       "       -3.05425493514972e-13, 0, -7.32625994722773e-13, 12499.2708333333],\n",
       "      dtype=object)"
      ]
     },
     "execution_count": 921,
     "metadata": {},
     "output_type": "execute_result"
    }
   ],
   "source": [
    "frame3.vetor_esforcos"
   ]
  },
  {
   "cell_type": "code",
   "execution_count": 922,
   "metadata": {},
   "outputs": [
    {
     "data": {
      "text/latex": [
       "$\\displaystyle \\left[\\begin{array}{cccccccccccc}1.0 & 0 & 0 & 0 & 0 & 0 & 0 & 0 & 0 & 0 & 0 & 0\\\\0 & 1.0 & 0 & 0 & 0 & 0 & 0 & 0 & 0 & 0 & 0 & 0\\\\0 & 0 & 1.0 & 0 & 0 & 0 & 0 & 0 & 0 & 0 & 0 & 0\\\\0 & 0 & 0 & 1.0 & 0 & 0 & 0 & 0 & 0 & 0 & 0 & 0\\\\0 & 0 & 0 & 0 & 1.0 & 0 & 0 & 0 & 0 & 0 & 0 & 0\\\\0 & 0 & 0 & 0 & 0 & 1.0 & 0 & 0 & 0 & 0 & 0 & 0\\\\0 & 0 & 0 & 0 & 0 & 0 & 1.0 & 0 & 0 & 0 & 0 & 0\\\\0 & 0 & 0 & 0 & 0 & 0 & 0 & 1.0 & 0 & 0 & 0 & 0\\\\0 & 0 & 0 & 0 & 0 & 0 & 0 & 0 & 1.0 & 0 & 0 & 0\\\\0 & 0 & 0 & 0 & 0 & 0 & 0 & 0 & 0 & 1.0 & 0 & 0\\\\0 & 0 & 0 & 0 & 0 & 0 & 0 & 0 & 0 & 0 & 1.0 & 0\\\\0 & 0 & 0 & 0 & 0 & 0 & 0 & 0 & 0 & 0 & 0 & 1.0\\end{array}\\right]$"
      ],
      "text/plain": [
       "Matrix([\n",
       "[1.0,   0,   0,   0,   0,   0,   0,   0,   0,   0,   0,   0],\n",
       "[  0, 1.0,   0,   0,   0,   0,   0,   0,   0,   0,   0,   0],\n",
       "[  0,   0, 1.0,   0,   0,   0,   0,   0,   0,   0,   0,   0],\n",
       "[  0,   0,   0, 1.0,   0,   0,   0,   0,   0,   0,   0,   0],\n",
       "[  0,   0,   0,   0, 1.0,   0,   0,   0,   0,   0,   0,   0],\n",
       "[  0,   0,   0,   0,   0, 1.0,   0,   0,   0,   0,   0,   0],\n",
       "[  0,   0,   0,   0,   0,   0, 1.0,   0,   0,   0,   0,   0],\n",
       "[  0,   0,   0,   0,   0,   0,   0, 1.0,   0,   0,   0,   0],\n",
       "[  0,   0,   0,   0,   0,   0,   0,   0, 1.0,   0,   0,   0],\n",
       "[  0,   0,   0,   0,   0,   0,   0,   0,   0, 1.0,   0,   0],\n",
       "[  0,   0,   0,   0,   0,   0,   0,   0,   0,   0, 1.0,   0],\n",
       "[  0,   0,   0,   0,   0,   0,   0,   0,   0,   0,   0, 1.0]])"
      ]
     },
     "execution_count": 922,
     "metadata": {},
     "output_type": "execute_result"
    }
   ],
   "source": [
    "frame1.T"
   ]
  },
  {
   "cell_type": "code",
   "execution_count": 923,
   "metadata": {},
   "outputs": [],
   "source": [
    "# modelo.calcular_matriz_rigidez()\n",
    "# modelo.k_global"
   ]
  },
  {
   "cell_type": "code",
   "execution_count": 924,
   "metadata": {},
   "outputs": [],
   "source": [
    "# print(\"foo\")\n",
    "# modelo.calcular_vetor_deslocamentos()\n",
    "# modelo.vetor_deslocamentos"
   ]
  },
  {
   "cell_type": "code",
   "execution_count": 925,
   "metadata": {},
   "outputs": [],
   "source": [
    "# modelo.calcular_vetor_forcas()\n",
    "# modelo.vetor_forcas"
   ]
  },
  {
   "cell_type": "code",
   "execution_count": 926,
   "metadata": {},
   "outputs": [],
   "source": [
    "# modelo.calcular_solucao()\n",
    "# modelo.vetor_deslocamentos.shape"
   ]
  }
 ],
 "metadata": {
  "kernelspec": {
   "display_name": "Python 3",
   "language": "python",
   "name": "python3"
  },
  "language_info": {
   "codemirror_mode": {
    "name": "ipython",
    "version": 3
   },
   "file_extension": ".py",
   "mimetype": "text/x-python",
   "name": "python",
   "nbconvert_exporter": "python",
   "pygments_lexer": "ipython3",
   "version": "3.12.1"
  }
 },
 "nbformat": 4,
 "nbformat_minor": 2
}
