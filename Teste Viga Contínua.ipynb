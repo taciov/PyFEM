{
 "cells": [
  {
   "cell_type": "code",
   "execution_count": 99,
   "metadata": {},
   "outputs": [
    {
     "name": "stdout",
     "output_type": "stream",
     "text": [
      "The autoreload extension is already loaded. To reload it, use:\n",
      "  %reload_ext autoreload\n"
     ]
    }
   ],
   "source": [
    "## Viga Contínua\n",
    "\n",
    "%load_ext autoreload\n",
    "%autoreload\n",
    "%reset -f\n",
    "\n",
    "from src import Node as nd\n",
    "from src import Bar as bar\n",
    "from src import MEFVigas as vg\n",
    "from src import Apoio as ap\n",
    "from src import CargaPontual as cp\n",
    "from src import CargaDistribuida as cd\n",
    "from src import Modelo as md\n",
    "\n",
    "import numpy as np\n",
    "import matplotlib.pyplot as plt\n",
    "import pandas as pd"
   ]
  },
  {
   "cell_type": "code",
   "execution_count": 100,
   "metadata": {},
   "outputs": [],
   "source": [
    "## Propriedades do material\n",
    "\n",
    "mod_elast = 25e9\n",
    "b = 0.2\n",
    "h = 0.4\n",
    "area = b * h\n",
    "inercia = b * h ** 3 / 12\n",
    "\n",
    "## Propriedades gerais da viga:\n",
    "\n",
    "q = -10e3\n",
    "L = 5"
   ]
  },
  {
   "cell_type": "code",
   "execution_count": 101,
   "metadata": {},
   "outputs": [],
   "source": [
    "nd.Node.clear_list_nodes()\n",
    "bar.Barra.clear_list_bars()\n",
    "\n",
    "## Definindo os nós:\n",
    "\n",
    "viga1 = md.Modelo()\n",
    "\n",
    "viga1.criar_node(0, 0)\n",
    "viga1.criar_node(0.5, 0)\n",
    "viga1.criar_node(1, 0)\n",
    "viga1.criar_node(1.5, 0)\n",
    "viga1.criar_node(2, 0)\n",
    "viga1.criar_node(2.5, 0)\n",
    "viga1.criar_node(3, 0)\n",
    "viga1.criar_node(3.5, 0)\n",
    "viga1.criar_node(4, 0)\n",
    "viga1.criar_node(4.5, 0)\n",
    "viga1.criar_node(5, 0)\n",
    "\n",
    "## Definindo os apoios:\n",
    "\n",
    "viga1.criar_apoio([0, 0, 1], x = 1, y = 0)\n",
    "viga1.criar_apoio([0, 0, 1], x = 4, y = 0)\n",
    "\n",
    "## Definindo as barras:\n",
    "\n",
    "viga1.criar_barras(mod_elast, area, inercia)\n",
    "\n",
    "for idx, barra in enumerate(viga1.lista_barras):\n",
    "    viga1.aplicar_carga_distribuida(0, q, barra)\n",
    "\n",
    "viga1.criar_modelo()\n",
    "viga1.processar_modelo()\n",
    "viga1.viga.export_data(name = 'viga1att')\n",
    "\n",
    "# beam_teste = vg.Beam(lista_barras = bar.Barra.list_bars)\n",
    "# beam_teste.solver_viga()\n",
    "# beam_teste.plot_displacement()\n",
    "# beam_teste.plot_axial_force()\n",
    "# beam_teste.plot_shear_force()\n",
    "# beam_teste.plot_bending_moment()\n",
    "# beam_teste.export_data(name = 'viga_teste')"
   ]
  },
  {
   "cell_type": "code",
   "execution_count": 102,
   "metadata": {},
   "outputs": [
    {
     "data": {
      "text/html": [
       "<div>\n",
       "<style scoped>\n",
       "    .dataframe tbody tr th:only-of-type {\n",
       "        vertical-align: middle;\n",
       "    }\n",
       "\n",
       "    .dataframe tbody tr th {\n",
       "        vertical-align: top;\n",
       "    }\n",
       "\n",
       "    .dataframe thead th {\n",
       "        text-align: right;\n",
       "    }\n",
       "</style>\n",
       "<table border=\"1\" class=\"dataframe\">\n",
       "  <thead>\n",
       "    <tr style=\"text-align: right;\">\n",
       "      <th></th>\n",
       "      <th>x</th>\n",
       "      <th>y</th>\n",
       "      <th>ux</th>\n",
       "      <th>uy</th>\n",
       "      <th>ex</th>\n",
       "      <th>ey</th>\n",
       "      <th>mf</th>\n",
       "    </tr>\n",
       "  </thead>\n",
       "  <tbody>\n",
       "    <tr>\n",
       "      <th>0</th>\n",
       "      <td>0.0</td>\n",
       "      <td>0.0</td>\n",
       "      <td>0.0</td>\n",
       "      <td>0.000078</td>\n",
       "      <td>0.0</td>\n",
       "      <td>-2.5</td>\n",
       "      <td>2.637535e-14</td>\n",
       "    </tr>\n",
       "    <tr>\n",
       "      <th>3</th>\n",
       "      <td>1.0</td>\n",
       "      <td>0.0</td>\n",
       "      <td>0.0</td>\n",
       "      <td>0.000000</td>\n",
       "      <td>0.0</td>\n",
       "      <td>-7.5</td>\n",
       "      <td>-5.000000e+00</td>\n",
       "    </tr>\n",
       "    <tr>\n",
       "      <th>4</th>\n",
       "      <td>1.0</td>\n",
       "      <td>0.0</td>\n",
       "      <td>0.0</td>\n",
       "      <td>0.000000</td>\n",
       "      <td>0.0</td>\n",
       "      <td>12.5</td>\n",
       "      <td>-5.000000e+00</td>\n",
       "    </tr>\n",
       "    <tr>\n",
       "      <th>9</th>\n",
       "      <td>2.5</td>\n",
       "      <td>0.0</td>\n",
       "      <td>0.0</td>\n",
       "      <td>-0.000176</td>\n",
       "      <td>0.0</td>\n",
       "      <td>2.5</td>\n",
       "      <td>6.250000e+00</td>\n",
       "    </tr>\n",
       "    <tr>\n",
       "      <th>10</th>\n",
       "      <td>2.5</td>\n",
       "      <td>0.0</td>\n",
       "      <td>0.0</td>\n",
       "      <td>-0.000176</td>\n",
       "      <td>0.0</td>\n",
       "      <td>-2.5</td>\n",
       "      <td>6.250000e+00</td>\n",
       "    </tr>\n",
       "    <tr>\n",
       "      <th>15</th>\n",
       "      <td>4.0</td>\n",
       "      <td>0.0</td>\n",
       "      <td>0.0</td>\n",
       "      <td>0.000000</td>\n",
       "      <td>0.0</td>\n",
       "      <td>-12.5</td>\n",
       "      <td>-5.000000e+00</td>\n",
       "    </tr>\n",
       "    <tr>\n",
       "      <th>16</th>\n",
       "      <td>4.0</td>\n",
       "      <td>0.0</td>\n",
       "      <td>0.0</td>\n",
       "      <td>0.000000</td>\n",
       "      <td>0.0</td>\n",
       "      <td>7.5</td>\n",
       "      <td>-5.000000e+00</td>\n",
       "    </tr>\n",
       "    <tr>\n",
       "      <th>19</th>\n",
       "      <td>5.0</td>\n",
       "      <td>0.0</td>\n",
       "      <td>0.0</td>\n",
       "      <td>0.000078</td>\n",
       "      <td>0.0</td>\n",
       "      <td>2.5</td>\n",
       "      <td>-5.456968e-14</td>\n",
       "    </tr>\n",
       "  </tbody>\n",
       "</table>\n",
       "</div>"
      ],
      "text/plain": [
       "      x    y   ux        uy   ex    ey            mf\n",
       "0   0.0  0.0  0.0  0.000078  0.0  -2.5  2.637535e-14\n",
       "3   1.0  0.0  0.0  0.000000  0.0  -7.5 -5.000000e+00\n",
       "4   1.0  0.0  0.0  0.000000  0.0  12.5 -5.000000e+00\n",
       "9   2.5  0.0  0.0 -0.000176  0.0   2.5  6.250000e+00\n",
       "10  2.5  0.0  0.0 -0.000176  0.0  -2.5  6.250000e+00\n",
       "15  4.0  0.0  0.0  0.000000  0.0 -12.5 -5.000000e+00\n",
       "16  4.0  0.0  0.0  0.000000  0.0   7.5 -5.000000e+00\n",
       "19  5.0  0.0  0.0  0.000078  0.0   2.5 -5.456968e-14"
      ]
     },
     "metadata": {},
     "output_type": "display_data"
    }
   ],
   "source": [
    "df_teste = pd.DataFrame(viga1.viga.dict_data)\n",
    "display(df_teste.loc[(df_teste['x'] == 0) | (df_teste['x'] == 1) | (df_teste['x'] == 2.5) | (df_teste['x'] == 4) | (df_teste['x'] == 5)])"
   ]
  },
  {
   "cell_type": "code",
   "execution_count": 103,
   "metadata": {},
   "outputs": [],
   "source": [
    "# nd.Node.clear_list_nodes()\n",
    "# bar.Barra.clear_list_bars()\n",
    "\n",
    "# viga1 = md.Modelo()\n",
    "\n",
    "# viga1.criar_node(0, 0)\n",
    "# viga1.criar_node(2, 0)\n",
    "# viga1.criar_node(4, 0)\n",
    "# viga1.criar_node(6, 0)\n",
    "\n",
    "# viga1.criar_apoio([0, 0, 1], node = viga1.lista_nodes[0])\n",
    "# viga1.criar_apoio([0, 0, 1], node = viga1.lista_nodes[3])\n",
    "\n",
    "# viga1.criar_barras(mod_elast, area, inercia)\n",
    "\n",
    "# viga1.aplicar_carga_pontual(0, -10, 0, viga1.lista_nodes[1])\n",
    "# viga1.aplicar_carga_pontual(0, -10, 0, viga1.lista_nodes[2])\n",
    "\n",
    "# viga1.criar_modelo()\n",
    "# viga1.processar_modelo()"
   ]
  },
  {
   "cell_type": "code",
   "execution_count": 104,
   "metadata": {},
   "outputs": [
    {
     "data": {
      "image/png": "[encoded data removed]",
      "text/plain": [
       "<Figure size 640x480 with 1 Axes>"
      ]
     },
     "metadata": {},
     "output_type": "display_data"
    }
   ],
   "source": [
    "viga1.viga.plot_bending_moment()"
   ]
  },
  {
   "cell_type": "code",
   "execution_count": 105,
   "metadata": {},
   "outputs": [
    {
     "data": {
      "text/plain": [
       "[<src.Bar.Barra at 0x1eb651777a0>,\n",
       " <src.Bar.Barra at 0x1eb65177b00>,\n",
       " <src.Bar.Barra at 0x1eb6157d4f0>,\n",
       " <src.Bar.Barra at 0x1eb65176e10>,\n",
       " <src.Bar.Barra at 0x1eb6283bc50>,\n",
       " <src.Bar.Barra at 0x1eb573572c0>,\n",
       " <src.Bar.Barra at 0x1eb57357b90>,\n",
       " <src.Bar.Barra at 0x1eb57357320>,\n",
       " <src.Bar.Barra at 0x1eb57355670>,\n",
       " <src.Bar.Barra at 0x1eb649c6cf0>]"
      ]
     },
     "execution_count": 105,
     "metadata": {},
     "output_type": "execute_result"
    }
   ],
   "source": [
    "viga1.lista_barras"
   ]
  },
  {
   "cell_type": "code",
   "execution_count": 106,
   "metadata": {},
   "outputs": [
    {
     "data": {
      "text/plain": [
       "{'indice': 1,\n",
       " 'lista_graus': [1, 2, 3],\n",
       " 'x': 0,\n",
       " 'y': 0,\n",
       " 'fx': 0.0,\n",
       " 'fy': -2500.0,\n",
       " 'mz': 0,\n",
       " 'ux': 0,\n",
       " 'uy': 7.81249999999992e-5,\n",
       " 'ang': -5.85937499999992e-5}"
      ]
     },
     "execution_count": 106,
     "metadata": {},
     "output_type": "execute_result"
    }
   ],
   "source": [
    "vars(viga1.lista_nodes[0])"
   ]
  }
 ],
 "metadata": {
  "kernelspec": {
   "display_name": "Python 3",
   "language": "python",
   "name": "python3"
  },
  "language_info": {
   "codemirror_mode": {
    "name": "ipython",
    "version": 3
   },
   "file_extension": ".py",
   "mimetype": "text/x-python",
   "name": "python",
   "nbconvert_exporter": "python",
   "pygments_lexer": "ipython3",
   "version": "3.12.1"
  }
 },
 "nbformat": 4,
 "nbformat_minor": 2
}
